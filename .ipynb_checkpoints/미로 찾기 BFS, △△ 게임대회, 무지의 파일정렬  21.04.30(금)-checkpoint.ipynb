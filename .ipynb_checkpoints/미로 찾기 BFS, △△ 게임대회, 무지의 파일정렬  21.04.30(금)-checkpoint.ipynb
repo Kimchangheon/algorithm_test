{
 "cells": [
  {
   "cell_type": "markdown",
   "metadata": {},
   "source": [
    "# 미로 찾기 BFS"
   ]
  },
  {
   "cell_type": "code",
   "execution_count": null,
   "metadata": {},
   "outputs": [],
   "source": [
    "from collections import deque\n",
    "\n",
    "dx = [-1,1,0,0]\n",
    "dy = [0,0,-1,1]\n",
    "\n",
    "\n",
    "\n",
    "def solution(maps):\n",
    "    graph = maps\n",
    "    n = len(graph[0])\n",
    "    m = len(graph)\n",
    "\n",
    "    def bfs(x,y) :\n",
    "        queue = deque()\n",
    "        queue.append((x,y))\n",
    "        while queue : \n",
    "            x, y = queue.popleft()\n",
    "            for i in range(4) :\n",
    "                nx = x + dx[i]\n",
    "                ny = y + dy[i]\n",
    "                if nx < 0 or ny < 0 or nx >= n or ny >= m : \n",
    "                    continue\n",
    "                if graph[nx][ny] == 0 :\n",
    "                    continue\n",
    "                if graph[nx][ny] == 1:\n",
    "                    graph[nx][ny] = graph[x][y] + 1\n",
    "                    queue.append((nx,ny))\n",
    "        result = graph[n-1][m-1]\n",
    "\n",
    "        if result  == 1 : \n",
    "            return -1\n",
    "        else : \n",
    "            return result\n",
    "    return bfs(0,0)\n"
   ]
  },
  {
   "cell_type": "code",
   "execution_count": null,
   "metadata": {},
   "outputs": [],
   "source": []
  },
  {
   "cell_type": "markdown",
   "metadata": {},
   "source": [
    "# △△ 게임대회"
   ]
  },
  {
   "cell_type": "markdown",
   "metadata": {},
   "source": [
    "△△ 게임대회가 개최되었습니다. 이 대회는 N명이 참가하고, 토너먼트 형식으로 진행됩니다. N명의 참가자는 각각 1부터 N번을 차례대로 배정받습니다. 그리고, 1번↔2번, 3번↔4번, ... , N-1번↔N번의 참가자끼리 게임을 진행합니다. 각 게임에서 이긴 사람은 다음 라운드에 진출할 수 있습니다. 이때, 다음 라운드에 진출할 참가자의 번호는 다시 1번부터 N/2번을 차례대로 배정받습니다. 만약 1번↔2번 끼리 겨루는 게임에서 2번이 승리했다면 다음 라운드에서 1번을 부여받고, 3번↔4번에서 겨루는 게임에서 3번이 승리했다면 다음 라운드에서 2번을 부여받게 됩니다. 게임은 최종 한 명이 남을 때까지 진행됩니다.\n",
    "\n",
    "이때, 처음 라운드에서 A번을 가진 참가자는 경쟁자로 생각하는 B번 참가자와 몇 번째 라운드에서 만나는지 궁금해졌습니다. 게임 참가자 수 N, 참가자 번호 A, 경쟁자 번호 B가 함수 solution의 매개변수로 주어질 때, 처음 라운드에서 A번을 가진 참가자는 경쟁자로 생각하는 B번 참가자와 몇 번째 라운드에서 만나는지 return 하는 solution 함수를 완성해 주세요. 단, A번 참가자와 B번 참가자는 서로 붙게 되기 전까지 항상 이긴다고 가정합니다.\n",
    "\n",
    "제한사항\n",
    "\n",
    "N : 21 이상 220 이하인 자연수 (2의 지수 승으로 주어지므로 부전승은 발생하지 않습니다.)\n",
    "A, B : N 이하인 자연수 (단, A ≠ B 입니다.\n",
    "\n",
    "입출력 예\n",
    "\n",
    "NABanswer\n",
    "\n",
    "8\t4\t7\t3\n",
    "입출력 예 설명\n",
    "\n",
    "입출력 예 #1\n",
    "첫 번째 라운드에서 4번 참가자는 3번 참가자와 붙게 되고, 7번 참가자는 8번 참가자와 붙게 됩니다. 항상 이긴다고 가정했으므로 4번 참가자는 다음 라운드에서 2번이 되고, 7번 참가자는 4번이 됩니다. 두 번째 라운드에서 2번은 1번과 붙게 되고, 4번은 3번과 붙게 됩니다. 항상 이긴다고 가정했으므로 2번은 다음 라운드에서 1번이 되고, 4번은 2번이 됩니다. 세 번째 라운드에서 1번과 2번으로 두 참가자가 붙게 되므로 3을 return 하면 됩니다."
   ]
  },
  {
   "cell_type": "code",
   "execution_count": null,
   "metadata": {},
   "outputs": [],
   "source": [
    "def solution(n,a,b):\n",
    "    r = 1\n",
    "    while not(abs(a-b) == 1 and (a+b+1) %4 ==0) :\n",
    "        if a % 2 == 0 :\n",
    "            a = a/2\n",
    "        else : \n",
    "            a = (a+1)/2\n",
    "        if b % 2 == 0 :\n",
    "            b = b/2\n",
    "        else : \n",
    "            b = (b+1)/2\n",
    "        r+=1        \n",
    "    return r\n"
   ]
  },
  {
   "cell_type": "markdown",
   "metadata": {},
   "source": [
    "# 무지의 파일정렬"
   ]
  },
  {
   "cell_type": "code",
   "execution_count": null,
   "metadata": {},
   "outputs": [],
   "source": [
    "def solution(files):\n",
    "    fn_order_list = [] * len(files)\n",
    "    head_list = {}\n",
    "    num_list = {}\n",
    "    tail_list = {}\n",
    "    head = \"\"\n",
    "    num = \"\"\n",
    "    tail = \"\"\n",
    "    for f in files : \n",
    "        n_start_index = 0\n",
    "        for s in f : \n",
    "            if !s.isdigit() : \n",
    "                head += s\n",
    "            n_start_index += 1\n",
    "        t_start_index    \n",
    "        for s in f[n_start_index] : \n",
    "            if s.isdigit() : \n",
    "                num += s\n",
    "            t_start_index +=1\n",
    "        tail += f[n_start_index+t_start_index]\n",
    "    \n",
    "        head_list[f] = head\n",
    "        num_list[f] = num\n",
    "        tail_list[f] = tail\n",
    "        \n",
    "    head_list.sort\n",
    "    \n",
    "\n",
    "    answer = []\n",
    "    return answer\n"
   ]
  }
 ],
 "metadata": {
  "kernelspec": {
   "display_name": "Python 3",
   "language": "python",
   "name": "python3"
  },
  "language_info": {
   "codemirror_mode": {
    "name": "ipython",
    "version": 3
   },
   "file_extension": ".py",
   "mimetype": "text/x-python",
   "name": "python",
   "nbconvert_exporter": "python",
   "pygments_lexer": "ipython3",
   "version": "3.8.3"
  }
 },
 "nbformat": 4,
 "nbformat_minor": 4
}
