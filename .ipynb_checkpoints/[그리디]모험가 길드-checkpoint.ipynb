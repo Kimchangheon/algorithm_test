{
 "cells": [
  {
   "cell_type": "code",
   "execution_count": 3,
   "metadata": {},
   "outputs": [
    {
     "name": "stdout",
     "output_type": "stream",
     "text": [
      "523122\n"
     ]
    }
   ],
   "source": [
    "s = list(map(int,input()))"
   ]
  },
  {
   "cell_type": "code",
   "execution_count": null,
   "metadata": {},
   "outputs": [],
   "source": []
  },
  {
   "cell_type": "code",
   "execution_count": 4,
   "metadata": {},
   "outputs": [
    {
     "data": {
      "text/plain": [
       "[5, 2, 3, 1, 2, 2]"
      ]
     },
     "execution_count": 4,
     "metadata": {},
     "output_type": "execute_result"
    }
   ],
   "source": [
    "s"
   ]
  },
  {
   "cell_type": "code",
   "execution_count": 17,
   "metadata": {},
   "outputs": [],
   "source": [
    "r_dict = {}\n",
    "n = 8\n",
    "for i in range(n) : \n",
    "        r_dict[i+1] = str(i)+str(i)"
   ]
  },
  {
   "cell_type": "code",
   "execution_count": 18,
   "metadata": {},
   "outputs": [
    {
     "data": {
      "text/plain": [
       "{1: '00', 2: '11', 3: '22', 4: '33', 5: '44', 6: '55', 7: '66', 8: '77'}"
      ]
     },
     "execution_count": 18,
     "metadata": {},
     "output_type": "execute_result"
    }
   ],
   "source": [
    "r_dict"
   ]
  },
  {
   "cell_type": "code",
   "execution_count": 20,
   "metadata": {},
   "outputs": [
    {
     "name": "stdout",
     "output_type": "stream",
     "text": [
      "0 00\n",
      "1 11\n",
      "2 22\n",
      "3 33\n",
      "4 44\n",
      "5 55\n",
      "6 66\n",
      "7 77\n"
     ]
    }
   ],
   "source": [
    "for index, i in enumerate(r_dict.items()) : \n",
    "    print(index, i[1])"
   ]
  },
  {
   "cell_type": "code",
   "execution_count": 35,
   "metadata": {},
   "outputs": [],
   "source": [
    "n = 8\n",
    "k = 2\n",
    "cmd = [\"D 2\", \"C\", \"U 3\", \"C\", \"D 4\", \"C\", \"U 2\", \"Z\", \"Z\"]"
   ]
  },
  {
   "cell_type": "code",
   "execution_count": 41,
   "metadata": {},
   "outputs": [
    {
     "name": "stdout",
     "output_type": "stream",
     "text": [
      "{0: 0, 1: 1, 2: 2, 3: 3, 4: 4, 5: 5, 6: 6, 7: 7}\n",
      "{0: 0, 1: 1, 2: 2, 3: 3, 4: 4, 5: 5, 6: 6, 7: 7}\n",
      "{0: 0, 1: 1, 2: 2, 3: 3, 4: 5, 5: 6, 6: 7}\n",
      "{0: 0, 1: 1, 2: 2, 3: 3, 4: 5, 5: 6, 6: 7}\n",
      "{0: 0, 1: 2, 2: 3, 3: 5, 4: 6, 5: 7}\n",
      "{0: 0, 1: 2, 2: 3, 3: 5, 4: 6, 5: 7}\n",
      "{0: 0, 1: 2, 2: 3, 3: 5, 4: 6}\n",
      "{0: 0, 1: 2, 2: 3, 3: 5, 4: 6}\n",
      "[7, 0, 2, 3, 5, 6]\n",
      "r_dict_new :  [0, 2, 3, 5, 6, 7]\n",
      "r_dict_new2 :  {0: 0, 1: 2, 2: 3, 3: 5, 4: 6, 5: 7}\n",
      "{0: 0, 1: 2, 2: 3, 3: 5, 4: 6, 5: 7}\n",
      "[1, 0, 2, 3, 5, 6, 7]\n",
      "r_dict_new :  [0, 1, 2, 3, 5, 6, 7]\n",
      "r_dict_new2 :  {0: 0, 1: 1, 2: 2, 3: 3, 4: 5, 5: 6, 6: 7}\n"
     ]
    }
   ],
   "source": [
    "r_dict = {}\n",
    "for i in range(n) : \n",
    "    r_dict[i] = i\n",
    "pivot = k\n",
    "stack = []\n",
    "for command in cmd : \n",
    "    print(r_dict)\n",
    "    if command[0] == \"D\" : \n",
    "        pivot += int(command[2])\n",
    "\n",
    "    elif command[0] == \"U\" :\n",
    "        pivot -= int(command[2])\n",
    "\n",
    "    elif command == \"C\" : \n",
    "        e = r_dict.pop(pivot)\n",
    "        stack.append((pivot,e))\n",
    "        #dict 다시 만들기\n",
    "        r_dict_new ={}\n",
    "        for index, element in enumerate(r_dict.items()) : \n",
    "            r_dict_new[index] = element[1]\n",
    "        r_dict = r_dict_new\n",
    "\n",
    "    else : # command == \"Z\"\n",
    "        k_e = stack.pop()\n",
    "        #dict 다시만들기\n",
    "        r_dict_new = [k_e[1]]\n",
    "        for index, element in enumerate(r_dict.items()) : \n",
    "            r_dict_new.append(element[1])\n",
    "        print(r_dict_new)\n",
    "        r_dict_new.sort()\n",
    "        print(\"r_dict_new : \" , r_dict_new)\n",
    "        r_dict_new2 = {}\n",
    "        for index, e in enumerate(r_dict_new) : \n",
    "            r_dict_new2[index] = e\n",
    "        print(\"r_dict_new2 : \",r_dict_new2)\n",
    "        r_dict = r_dict_new2"
   ]
  },
  {
   "cell_type": "code",
   "execution_count": 42,
   "metadata": {},
   "outputs": [
    {
     "name": "stdout",
     "output_type": "stream",
     "text": [
      "name_list =  [0, 1, 2, 3, 5, 6, 7]\n"
     ]
    }
   ],
   "source": [
    "answer = \"\"\n",
    "name_list = [i[1] for i in r_dict.items()]\n",
    "print(\"name_list = \", name_list)\n",
    "for i in range(n) : \n",
    "    if i in name_list :\n",
    "        answer = answer + \"O\"\n",
    "    else : \n",
    "        answer = answer + \"X\""
   ]
  },
  {
   "cell_type": "code",
   "execution_count": 43,
   "metadata": {},
   "outputs": [
    {
     "data": {
      "text/plain": [
       "'OOOOXOOO'"
      ]
     },
     "execution_count": 43,
     "metadata": {},
     "output_type": "execute_result"
    }
   ],
   "source": [
    "answer"
   ]
  },
  {
   "cell_type": "code",
   "execution_count": 44,
   "metadata": {},
   "outputs": [],
   "source": [
    "n = 8\n",
    "k = 2\n",
    "cmd = [\"D 2\", \"C\", \"U 3\", \"C\", \"D 4\", \"C\", \"U 2\", \"Z\", \"Z\"]"
   ]
  },
  {
   "cell_type": "code",
   "execution_count": 48,
   "metadata": {},
   "outputs": [],
   "source": [
    "def solution(n, k, cmd):\n",
    "    d = ['O'] * n\n",
    "    stack = []\n",
    "    pivot = k\n",
    "    for command in cmd:\n",
    "        if command[0] == \"D\":\n",
    "            n_tmp = int(command[2])\n",
    "            while n_tmp != 0:\n",
    "                pivot = pivot+1\n",
    "                if d[pivot] == 'O':\n",
    "                    n_tmp -= 1\n",
    "\n",
    "        elif command[0] == \"U\" :\n",
    "            n_tmp = int(command[2])\n",
    "            while n_tmp != 0 : \n",
    "                pivot = pivot-1\n",
    "                if d[pivot] == 'O' : \n",
    "                    n_tmp -= 1\n",
    "                    \n",
    "        elif command == \"C\" : \n",
    "            d[pivot] = 'X'\n",
    "            stack.append(pivot)\n",
    "\n",
    "        else : # command == \"Z\" : \n",
    "            d[stack.pop()] = 'O'\n",
    "        \n",
    "    answer = ''.join(d)    \n",
    "    \n",
    "    return answer\n"
   ]
  },
  {
   "cell_type": "code",
   "execution_count": 49,
   "metadata": {},
   "outputs": [
    {
     "data": {
      "text/plain": [
       "'OOOOXOOO'"
      ]
     },
     "execution_count": 49,
     "metadata": {},
     "output_type": "execute_result"
    }
   ],
   "source": [
    "solution(n,k,cmd)"
   ]
  },
  {
   "cell_type": "code",
   "execution_count": 47,
   "metadata": {},
   "outputs": [
    {
     "data": {
      "text/plain": [
       "3"
      ]
     },
     "execution_count": 47,
     "metadata": {},
     "output_type": "execute_result"
    }
   ],
   "source": [
    "pivot"
   ]
  },
  {
   "cell_type": "code",
   "execution_count": 50,
   "metadata": {},
   "outputs": [],
   "source": [
    "from itertools import combinations\n",
    "\n",
    "node_list = [(0, 0), (0, 4), (2, 1), (2, 3), (4, 0), (4, 4)]"
   ]
  },
  {
   "cell_type": "code",
   "execution_count": 51,
   "metadata": {},
   "outputs": [
    {
     "name": "stdout",
     "output_type": "stream",
     "text": [
      "((0, 0), (0, 4))\n",
      "((0, 0), (2, 1))\n",
      "((0, 0), (2, 3))\n",
      "((0, 0), (4, 0))\n",
      "((0, 0), (4, 4))\n",
      "((0, 4), (2, 1))\n",
      "((0, 4), (2, 3))\n",
      "((0, 4), (4, 0))\n",
      "((0, 4), (4, 4))\n",
      "((2, 1), (2, 3))\n",
      "((2, 1), (4, 0))\n",
      "((2, 1), (4, 4))\n",
      "((2, 3), (4, 0))\n",
      "((2, 3), (4, 4))\n",
      "((4, 0), (4, 4))\n"
     ]
    }
   ],
   "source": [
    "combi = combinations(node_list,2)\n",
    "        \n",
    "for comb in combi : \n",
    "    print(comb)"
   ]
  },
  {
   "cell_type": "code",
   "execution_count": null,
   "metadata": {},
   "outputs": [],
   "source": []
  }
 ],
 "metadata": {
  "kernelspec": {
   "display_name": "Python 3",
   "language": "python",
   "name": "python3"
  },
  "language_info": {
   "codemirror_mode": {
    "name": "ipython",
    "version": 3
   },
   "file_extension": ".py",
   "mimetype": "text/x-python",
   "name": "python",
   "nbconvert_exporter": "python",
   "pygments_lexer": "ipython3",
   "version": "3.8.3"
  }
 },
 "nbformat": 4,
 "nbformat_minor": 4
}
