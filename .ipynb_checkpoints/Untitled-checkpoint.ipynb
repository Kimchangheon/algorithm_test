{
 "cells": [
  {
   "cell_type": "code",
   "execution_count": 22,
   "metadata": {},
   "outputs": [],
   "source": [
    "n, k = 10000000, 5"
   ]
  },
  {
   "cell_type": "code",
   "execution_count": 23,
   "metadata": {},
   "outputs": [
    {
     "name": "stdout",
     "output_type": "stream",
     "text": [
      "taget :  10000000\n",
      "result :  0\n",
      "n :  10000000\n",
      "result :  1\n",
      "n :  2000000\n",
      "\n",
      "taget :  2000000\n",
      "result :  1\n",
      "n :  2000000\n",
      "result :  2\n",
      "n :  400000\n",
      "\n",
      "taget :  400000\n",
      "result :  2\n",
      "n :  400000\n",
      "result :  3\n",
      "n :  80000\n",
      "\n",
      "taget :  80000\n",
      "result :  3\n",
      "n :  80000\n",
      "result :  4\n",
      "n :  16000\n",
      "\n",
      "taget :  16000\n",
      "result :  4\n",
      "n :  16000\n",
      "result :  5\n",
      "n :  3200\n",
      "\n",
      "taget :  3200\n",
      "result :  5\n",
      "n :  3200\n",
      "result :  6\n",
      "n :  640\n",
      "\n",
      "taget :  640\n",
      "result :  6\n",
      "n :  640\n",
      "result :  7\n",
      "n :  128\n",
      "\n",
      "taget :  125\n",
      "result :  10\n",
      "n :  125\n",
      "result :  11\n",
      "n :  25\n",
      "\n",
      "taget :  25\n",
      "result :  11\n",
      "n :  25\n",
      "result :  12\n",
      "n :  5\n",
      "\n",
      "taget :  5\n",
      "result :  12\n",
      "n :  5\n",
      "result :  13\n",
      "n :  1\n",
      "\n",
      "taget :  0\n",
      "result :  14\n",
      "n :  0\n"
     ]
    }
   ],
   "source": [
    "result = 0 \n",
    "while True : \n",
    "    target = (n // k ) * k\n",
    "    print(\"taget : \" ,target)\n",
    "    result += n - target\n",
    "    print(\"result : \", result)\n",
    "    n = target\n",
    "    print(\"n : \", n)\n",
    "    \n",
    "    if n < k : \n",
    "        break\n",
    "    result += 1\n",
    "    print(\"result : \", result)\n",
    "    n //= k \n",
    "    print(\"n : \", n)\n",
    "    print( )"
   ]
  },
  {
   "cell_type": "raw",
   "metadata": {},
   "source": [
    "result += (n-1)"
   ]
  },
  {
   "cell_type": "code",
   "execution_count": 24,
   "metadata": {},
   "outputs": [
    {
     "data": {
      "text/plain": [
       "14"
      ]
     },
     "execution_count": 24,
     "metadata": {},
     "output_type": "execute_result"
    }
   ],
   "source": [
    "result"
   ]
  },
  {
   "cell_type": "markdown",
   "metadata": {},
   "source": [
    "# 상하좌우"
   ]
  },
  {
   "cell_type": "code",
   "execution_count": 25,
   "metadata": {},
   "outputs": [],
   "source": [
    "N = 5\n",
    "plan = \"RRRUDD\""
   ]
  },
  {
   "cell_type": "code",
   "execution_count": 26,
   "metadata": {},
   "outputs": [],
   "source": [
    "x,y = 1, 1"
   ]
  },
  {
   "cell_type": "code",
   "execution_count": 30,
   "metadata": {},
   "outputs": [],
   "source": [
    "for p in plan  : \n",
    "    if p == 'R' : \n",
    "        if y < N : \n",
    "            y+=1\n",
    "    \n",
    "    elif p =='L' : \n",
    "        if y>1 : \n",
    "            y-=1\n",
    "    \n",
    "    elif p == 'U':\n",
    "        if x>1 : \n",
    "            x-=1\n",
    "    \n",
    "    elif p == 'D':\n",
    "        if x < N : \n",
    "            x+=1"
   ]
  },
  {
   "cell_type": "code",
   "execution_count": 31,
   "metadata": {},
   "outputs": [
    {
     "data": {
      "text/plain": [
       "(3, 4)"
      ]
     },
     "execution_count": 31,
     "metadata": {},
     "output_type": "execute_result"
    }
   ],
   "source": [
    "x,y"
   ]
  },
  {
   "cell_type": "markdown",
   "metadata": {},
   "source": [
    "# 시각"
   ]
  },
  {
   "cell_type": "code",
   "execution_count": 32,
   "metadata": {},
   "outputs": [],
   "source": [
    "N = 5"
   ]
  },
  {
   "cell_type": "code",
   "execution_count": 33,
   "metadata": {},
   "outputs": [],
   "source": [
    "#0시 00분 00초부터 5시 59분 59초까지"
   ]
  },
  {
   "cell_type": "code",
   "execution_count": 35,
   "metadata": {},
   "outputs": [],
   "source": [
    "result = 0 \n",
    "for i in range(N+1) : \n",
    "    if i ==3 or i==13 or i==23 : \n",
    "        result += 60*60\n",
    "    else : \n",
    "        temp = 0 \n",
    "        for m in range(60) : \n",
    "            for s in range(60) : \n",
    "                if '3' in str(s) or '3' in str(m) : \n",
    "                    temp+=1\n",
    "        result += temp\n",
    "        "
   ]
  },
  {
   "cell_type": "code",
   "execution_count": 36,
   "metadata": {},
   "outputs": [
    {
     "data": {
      "text/plain": [
       "11475"
      ]
     },
     "execution_count": 36,
     "metadata": {},
     "output_type": "execute_result"
    }
   ],
   "source": [
    "result"
   ]
  },
  {
   "cell_type": "markdown",
   "metadata": {},
   "source": [
    "# 왕실의 나이트"
   ]
  },
  {
   "cell_type": "markdown",
   "metadata": {},
   "source": [
    "수평으로 두 칸 이동한 뒤에 수직으로 한간 이동하기\n",
    "좌우, 상하\n",
    "\n",
    "수직으로 두칸 이동한 뒤에 수평으로 한칸 이동하기"
   ]
  },
  {
   "cell_type": "code",
   "execution_count": 38,
   "metadata": {},
   "outputs": [],
   "source": [
    "pos = \"a1\""
   ]
  },
  {
   "cell_type": "markdown",
   "metadata": {},
   "source": [
    "# 게임 개발"
   ]
  },
  {
   "cell_type": "code",
   "execution_count": null,
   "metadata": {},
   "outputs": [],
   "source": []
  }
 ],
 "metadata": {
  "kernelspec": {
   "display_name": "Python 3",
   "language": "python",
   "name": "python3"
  },
  "language_info": {
   "codemirror_mode": {
    "name": "ipython",
    "version": 3
   },
   "file_extension": ".py",
   "mimetype": "text/x-python",
   "name": "python",
   "nbconvert_exporter": "python",
   "pygments_lexer": "ipython3",
   "version": "3.8.3"
  }
 },
 "nbformat": 4,
 "nbformat_minor": 4
}
